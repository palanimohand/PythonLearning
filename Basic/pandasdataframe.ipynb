{
 "cells": [
  {
   "cell_type": "code",
   "execution_count": 137,
   "id": "1f21d280",
   "metadata": {},
   "outputs": [],
   "source": [
    "import numpy as np\n",
    "import pandas as pd"
   ]
  },
  {
   "cell_type": "code",
   "execution_count": 138,
   "id": "209668f2",
   "metadata": {},
   "outputs": [
    {
     "name": "stdout",
     "output_type": "stream",
     "text": [
      "[1 2 3 4 5]\n"
     ]
    },
    {
     "data": {
      "text/plain": [
       "array([1, 2, 3, 4, 5])"
      ]
     },
     "execution_count": 138,
     "metadata": {},
     "output_type": "execute_result"
    }
   ],
   "source": [
    "# numpy 1d array\n",
    "np_array = np.array([1,2,3,4,5])\n",
    "print(np_array)\n",
    "np_array"
   ]
  },
  {
   "cell_type": "code",
   "execution_count": 139,
   "id": "18d6a587",
   "metadata": {},
   "outputs": [
    {
     "name": "stdout",
     "output_type": "stream",
     "text": [
      "<class 'numpy.ndarray'> <class 'numpy.ndarray'>\n"
     ]
    },
    {
     "data": {
      "text/plain": [
       "array([[2, 4, 6],\n",
       "       [1, 3, 5]])"
      ]
     },
     "execution_count": 139,
     "metadata": {},
     "output_type": "execute_result"
    }
   ],
   "source": [
    "# numpy 1d array\n",
    "np_2d_array = np.array([[2,4,6],[1,3,5]])\n",
    "print(type(np_array), type(np_2d_array))\n",
    "np_2d_array\n",
    "\n",
    "# both array type is numpy.ndarray\n",
    "# no indexing is mentioned and no custom indexing available"
   ]
  },
  {
   "cell_type": "code",
   "execution_count": 140,
   "id": "6423e845",
   "metadata": {},
   "outputs": [
    {
     "name": "stdout",
     "output_type": "stream",
     "text": [
      "a     5\n",
      "b    10\n",
      "c    15\n",
      "dtype: int64\n",
      "a    [2, 4, 6]\n",
      "b    [1, 3, 5]\n",
      "dtype: object\n",
      "c    (2, 4, 6)\n",
      "d    (1, 3, 5)\n",
      "dtype: object\n"
     ]
    }
   ],
   "source": [
    "# both are 1 d array only\n",
    "print(pd.Series([5,10,15],index=['a','b','c'])) \n",
    "print(pd.Series([[2,4,6],[1,3,5]],index=['a','b']))\n",
    "print(pd.Series([(2,4,6),(1,3,5)],index=['c','d']))"
   ]
  },
  {
   "cell_type": "code",
   "execution_count": 141,
   "id": "575c8eeb",
   "metadata": {},
   "outputs": [
    {
     "data": {
      "text/html": [
       "<div>\n",
       "<style scoped>\n",
       "    .dataframe tbody tr th:only-of-type {\n",
       "        vertical-align: middle;\n",
       "    }\n",
       "\n",
       "    .dataframe tbody tr th {\n",
       "        vertical-align: top;\n",
       "    }\n",
       "\n",
       "    .dataframe thead th {\n",
       "        text-align: right;\n",
       "    }\n",
       "</style>\n",
       "<table border=\"1\" class=\"dataframe\">\n",
       "  <thead>\n",
       "    <tr style=\"text-align: right;\">\n",
       "      <th></th>\n",
       "      <th>0</th>\n",
       "      <th>1</th>\n",
       "      <th>2</th>\n",
       "    </tr>\n",
       "  </thead>\n",
       "  <tbody>\n",
       "    <tr>\n",
       "      <th>0</th>\n",
       "      <td>2</td>\n",
       "      <td>4</td>\n",
       "      <td>6</td>\n",
       "    </tr>\n",
       "    <tr>\n",
       "      <th>1</th>\n",
       "      <td>1</td>\n",
       "      <td>3</td>\n",
       "      <td>5</td>\n",
       "    </tr>\n",
       "  </tbody>\n",
       "</table>\n",
       "</div>"
      ],
      "text/plain": [
       "   0  1  2\n",
       "0  2  4  6\n",
       "1  1  3  5"
      ]
     },
     "execution_count": 141,
     "metadata": {},
     "output_type": "execute_result"
    }
   ],
   "source": [
    "pd.DataFrame([[2,4,6],[1,3,5]])"
   ]
  },
  {
   "cell_type": "code",
   "execution_count": 142,
   "id": "502863b5",
   "metadata": {},
   "outputs": [
    {
     "name": "stdout",
     "output_type": "stream",
     "text": [
      "   f   g\n",
      "a  1   6\n",
      "b  2   7\n",
      "c  3   8\n",
      "d  4   9\n",
      "e  5  10\n"
     ]
    },
    {
     "data": {
      "text/html": [
       "<div>\n",
       "<style scoped>\n",
       "    .dataframe tbody tr th:only-of-type {\n",
       "        vertical-align: middle;\n",
       "    }\n",
       "\n",
       "    .dataframe tbody tr th {\n",
       "        vertical-align: top;\n",
       "    }\n",
       "\n",
       "    .dataframe thead th {\n",
       "        text-align: right;\n",
       "    }\n",
       "</style>\n",
       "<table border=\"1\" class=\"dataframe\">\n",
       "  <thead>\n",
       "    <tr style=\"text-align: right;\">\n",
       "      <th></th>\n",
       "      <th>a</th>\n",
       "      <th>b</th>\n",
       "      <th>c</th>\n",
       "      <th>d</th>\n",
       "      <th>e</th>\n",
       "    </tr>\n",
       "  </thead>\n",
       "  <tbody>\n",
       "    <tr>\n",
       "      <th>0</th>\n",
       "      <td>1</td>\n",
       "      <td>2</td>\n",
       "      <td>3</td>\n",
       "      <td>4</td>\n",
       "      <td>5</td>\n",
       "    </tr>\n",
       "    <tr>\n",
       "      <th>1</th>\n",
       "      <td>6</td>\n",
       "      <td>7</td>\n",
       "      <td>8</td>\n",
       "      <td>9</td>\n",
       "      <td>10</td>\n",
       "    </tr>\n",
       "  </tbody>\n",
       "</table>\n",
       "</div>"
      ],
      "text/plain": [
       "   a  b  c  d   e\n",
       "0  1  2  3  4   5\n",
       "1  6  7  8  9  10"
      ]
     },
     "execution_count": 142,
     "metadata": {},
     "output_type": "execute_result"
    }
   ],
   "source": [
    "series_1 = pd.Series([1,2,3,4,5],index=['a','b','c','d','e'])\n",
    "series_2 = pd.Series([6,7,8,9,10],index=['a','b','c','d','e'])\n",
    "dicti = {\n",
    "    # keys are column values in dictionary\n",
    "    'f' : series_1,\n",
    "    'g' : series_2\n",
    "}\n",
    "dict_df = pd.DataFrame(dicti)\n",
    "print(dict_df)\n",
    "pd.DataFrame([series_1,series_2])\n"
   ]
  },
  {
   "cell_type": "code",
   "execution_count": 143,
   "id": "400d1456",
   "metadata": {},
   "outputs": [
    {
     "name": "stdout",
     "output_type": "stream",
     "text": [
      "2\n",
      "   f   g    h\n",
      "a  1   6  NaN\n",
      "b  5   7  NaN\n",
      "c  3   8  NaN\n",
      "d  4   9  NaN\n",
      "e  5  10  6.0\n"
     ]
    },
    {
     "name": "stderr",
     "output_type": "stream",
     "text": [
      "C:\\Users\\Palanimohan\\AppData\\Local\\Temp\\ipykernel_30792\\2203162847.py:2: FutureWarning: ChainedAssignmentError: behaviour will change in pandas 3.0!\n",
      "You are setting values through chained assignment. Currently this works in certain cases, but when using Copy-on-Write (which will become the default behaviour in pandas 3.0) this will never work to update the original DataFrame or Series, because the intermediate object on which we are setting values will behave as a copy.\n",
      "A typical example is when you are setting values in a column of a DataFrame, like:\n",
      "\n",
      "df[\"col\"][row_indexer] = value\n",
      "\n",
      "Use `df.loc[row_indexer, \"col\"] = values` instead, to perform the assignment in a single step and ensure this keeps updating the original `df`.\n",
      "\n",
      "See the caveats in the documentation: https://pandas.pydata.org/pandas-docs/stable/user_guide/indexing.html#returning-a-view-versus-a-copy\n",
      "\n",
      "  dict_df['f']['b'] = 5\n"
     ]
    }
   ],
   "source": [
    "print(dict_df['f']['b'])\n",
    "dict_df['f']['b'] = 5\n",
    "# dict_df['h']['i'] = 6 # gives error not allowing addition of records\n",
    "dict_df.loc['e','h'] = 6 # does not give error allows addition of values\n",
    "print(dict_df)"
   ]
  }
 ],
 "metadata": {
  "kernelspec": {
   "display_name": ".venv",
   "language": "python",
   "name": "python3"
  },
  "language_info": {
   "codemirror_mode": {
    "name": "ipython",
    "version": 3
   },
   "file_extension": ".py",
   "mimetype": "text/x-python",
   "name": "python",
   "nbconvert_exporter": "python",
   "pygments_lexer": "ipython3",
   "version": "3.13.3"
  }
 },
 "nbformat": 4,
 "nbformat_minor": 5
}

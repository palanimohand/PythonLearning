{
 "cells": [
  {
   "cell_type": "code",
   "execution_count": 399,
   "id": "8b9e4bb9",
   "metadata": {},
   "outputs": [
    {
     "data": {
      "text/plain": [
       "array([ 1,  3,  5,  7, 11])"
      ]
     },
     "execution_count": 399,
     "metadata": {},
     "output_type": "execute_result"
    }
   ],
   "source": [
    "import numpy as np\n",
    "practice_array_1 = np.array([1,3,5,7,9])\n",
    "practice_array_2 = np.array([2,4,6,8,10])\n",
    "practice_array_1[4] = 11\n",
    "copy_array_1 = practice_array_1.copy()\n",
    "view_array_1 = copy_array_1.view()\n",
    "\n",
    "practice_array_1"
   ]
  },
  {
   "cell_type": "code",
   "execution_count": 400,
   "id": "629be0ee",
   "metadata": {},
   "outputs": [
    {
     "data": {
      "text/plain": [
       "array([ 1,  3,  5,  7, 11])"
      ]
     },
     "execution_count": 400,
     "metadata": {},
     "output_type": "execute_result"
    }
   ],
   "source": [
    "copy_array_1"
   ]
  },
  {
   "cell_type": "code",
   "execution_count": 401,
   "id": "c44711bc",
   "metadata": {},
   "outputs": [
    {
     "data": {
      "text/plain": [
       "array([ 1,  3,  5,  7, 11])"
      ]
     },
     "execution_count": 401,
     "metadata": {},
     "output_type": "execute_result"
    }
   ],
   "source": [
    "view_array_1"
   ]
  },
  {
   "cell_type": "code",
   "execution_count": 402,
   "id": "3da5c6a0",
   "metadata": {},
   "outputs": [
    {
     "data": {
      "text/plain": [
       "array([ 1,  3,  2,  7, 11])"
      ]
     },
     "execution_count": 402,
     "metadata": {},
     "output_type": "execute_result"
    }
   ],
   "source": [
    "view_array_1[2] = 2\n",
    "copy_array_1"
   ]
  },
  {
   "cell_type": "code",
   "execution_count": 403,
   "id": "b8e1e6e6",
   "metadata": {},
   "outputs": [
    {
     "data": {
      "text/plain": [
       "array([ 1,  3,  2,  7, 11])"
      ]
     },
     "execution_count": 403,
     "metadata": {},
     "output_type": "execute_result"
    }
   ],
   "source": [
    "view_array_1"
   ]
  },
  {
   "cell_type": "code",
   "execution_count": 404,
   "id": "5d3d173d",
   "metadata": {},
   "outputs": [
    {
     "data": {
      "text/plain": [
       "array([ 1,  3,  5,  7, 11])"
      ]
     },
     "execution_count": 404,
     "metadata": {},
     "output_type": "execute_result"
    }
   ],
   "source": [
    "practice_array_1"
   ]
  },
  {
   "cell_type": "code",
   "execution_count": 405,
   "id": "d1666055",
   "metadata": {},
   "outputs": [
    {
     "data": {
      "text/plain": [
       "(6,)"
      ]
     },
     "execution_count": 405,
     "metadata": {},
     "output_type": "execute_result"
    }
   ],
   "source": [
    "# gives the dimensions of the array and not the size\n",
    "practice_array_2 = np.concatenate([practice_array_2,[12]])\n",
    "practice_array_2.shape"
   ]
  },
  {
   "cell_type": "code",
   "execution_count": 406,
   "id": "cf6d835a",
   "metadata": {},
   "outputs": [],
   "source": [
    "# reshapes to the dimensions given as arguments for reshape function\n",
    "# practice_array_2.reshape(1,2)"
   ]
  },
  {
   "cell_type": "code",
   "execution_count": 407,
   "id": "86a9b11e",
   "metadata": {},
   "outputs": [],
   "source": [
    "concat_array1 = practice_array_2.reshape(2,3)"
   ]
  },
  {
   "cell_type": "code",
   "execution_count": 408,
   "id": "c0b05be3",
   "metadata": {},
   "outputs": [],
   "source": [
    "concat_array2 = practice_array_2.reshape(1,6)"
   ]
  },
  {
   "cell_type": "code",
   "execution_count": 409,
   "id": "6622002b",
   "metadata": {},
   "outputs": [
    {
     "data": {
      "text/plain": [
       "array([[[ 2,  4,  6]],\n",
       "\n",
       "       [[ 8, 10, 12]]])"
      ]
     },
     "execution_count": 409,
     "metadata": {},
     "output_type": "execute_result"
    }
   ],
   "source": [
    "practice_array_2.reshape(2,1,3)"
   ]
  },
  {
   "cell_type": "code",
   "execution_count": 410,
   "id": "209eae10",
   "metadata": {},
   "outputs": [
    {
     "data": {
      "text/plain": [
       "array([[[ 2],\n",
       "        [ 4],\n",
       "        [ 6]],\n",
       "\n",
       "       [[ 8],\n",
       "        [10],\n",
       "        [12]]])"
      ]
     },
     "execution_count": 410,
     "metadata": {},
     "output_type": "execute_result"
    }
   ],
   "source": [
    "practice_array_2.reshape(2,3,1)"
   ]
  },
  {
   "cell_type": "code",
   "execution_count": 411,
   "id": "265b3d9a",
   "metadata": {},
   "outputs": [
    {
     "data": {
      "text/plain": [
       "array([[[[[[ 2,  4],\n",
       "           [ 6,  8],\n",
       "           [10, 12]]]]]])"
      ]
     },
     "execution_count": 411,
     "metadata": {},
     "output_type": "execute_result"
    }
   ],
   "source": [
    "practice_array_2.reshape(1,1,1,1,3,2)"
   ]
  },
  {
   "cell_type": "code",
   "execution_count": 412,
   "id": "1d10de7e",
   "metadata": {},
   "outputs": [
    {
     "data": {
      "text/plain": [
       "array([[[[[[ 2],\n",
       "           [ 4],\n",
       "           [ 6]]],\n",
       "\n",
       "\n",
       "         [[[ 8],\n",
       "           [10],\n",
       "           [12]]]]]])"
      ]
     },
     "execution_count": 412,
     "metadata": {},
     "output_type": "execute_result"
    }
   ],
   "source": [
    "practice_array_2.reshape(1,1,2,1,3,1)"
   ]
  },
  {
   "cell_type": "code",
   "execution_count": 413,
   "id": "3e588ca2",
   "metadata": {},
   "outputs": [
    {
     "data": {
      "text/plain": [
       "array([[1, 2, 3],\n",
       "       [4, 5, 6]])"
      ]
     },
     "execution_count": 413,
     "metadata": {},
     "output_type": "execute_result"
    }
   ],
   "source": [
    "# np.concatenate([concat_array1, concat_array2])\n",
    "# np.array(1,2,3)\n",
    "concat_array2 = concat_array2.reshape(2,3)\n",
    "concat_array2 = np.array([1,2,3,4,5,6]).reshape(2,3)\n",
    "concat_array2"
   ]
  },
  {
   "cell_type": "code",
   "execution_count": 414,
   "id": "c0e7c8dc",
   "metadata": {},
   "outputs": [
    {
     "data": {
      "text/plain": [
       "array([[ 2,  4,  6],\n",
       "       [ 8, 10, 12],\n",
       "       [ 1,  2,  3],\n",
       "       [ 4,  5,  6]])"
      ]
     },
     "execution_count": 414,
     "metadata": {},
     "output_type": "execute_result"
    }
   ],
   "source": [
    "\n",
    "np.concatenate([concat_array1, concat_array2])"
   ]
  },
  {
   "cell_type": "code",
   "execution_count": 415,
   "id": "0e107326",
   "metadata": {},
   "outputs": [
    {
     "data": {
      "text/plain": [
       "array([[ 2,  4,  6],\n",
       "       [ 8, 10, 12],\n",
       "       [ 1,  2,  3],\n",
       "       [ 4,  5,  6]])"
      ]
     },
     "execution_count": 415,
     "metadata": {},
     "output_type": "execute_result"
    }
   ],
   "source": [
    "np.concatenate([concat_array1, concat_array2], axis=0)"
   ]
  },
  {
   "cell_type": "code",
   "execution_count": 416,
   "id": "6b75a310",
   "metadata": {},
   "outputs": [
    {
     "data": {
      "text/plain": [
       "array([[ 2,  4,  6,  1,  2,  3],\n",
       "       [ 8, 10, 12,  4,  5,  6]])"
      ]
     },
     "execution_count": 416,
     "metadata": {},
     "output_type": "execute_result"
    }
   ],
   "source": [
    "np.concatenate([concat_array1, concat_array2], axis=1)"
   ]
  },
  {
   "cell_type": "code",
   "execution_count": 417,
   "id": "33e35e2a",
   "metadata": {},
   "outputs": [
    {
     "name": "stdout",
     "output_type": "stream",
     "text": [
      "[[[ 1  2]\n",
      "  [ 3  4]\n",
      "  [ 5  6]]\n",
      "\n",
      " [[ 7  8]\n",
      "  [ 9 10]\n",
      "  [11 12]]]\n",
      "[[[ 2  4]\n",
      "  [ 6  8]\n",
      "  [10 12]]\n",
      "\n",
      " [[14 16]\n",
      "  [18 20]\n",
      "  [22 24]]]\n"
     ]
    }
   ],
   "source": [
    "three_concat_1 = np.array([1,2,3,4,5,6,7,8,9,10,11,12]).reshape(2,3,2)\n",
    "print(three_concat_1)\n",
    "three_concat_2 = np.array([2,4,6,8,10,12,14,16,18,20,22,24]).reshape(2,3,2)\n",
    "print(three_concat_2)"
   ]
  },
  {
   "cell_type": "code",
   "execution_count": 418,
   "id": "26ecaff4",
   "metadata": {},
   "outputs": [
    {
     "name": "stdout",
     "output_type": "stream",
     "text": [
      "[[[ 1  2]\n",
      "  [ 3  4]\n",
      "  [ 5  6]]\n",
      "\n",
      " [[ 7  8]\n",
      "  [ 9 10]\n",
      "  [11 12]]\n",
      "\n",
      " [[ 2  4]\n",
      "  [ 6  8]\n",
      "  [10 12]]\n",
      "\n",
      " [[14 16]\n",
      "  [18 20]\n",
      "  [22 24]]]\n",
      "(4, 3, 2)\n"
     ]
    }
   ],
   "source": [
    "axis0 = np.concatenate([three_concat_1, three_concat_2], axis=0)\n",
    "print(axis0)\n",
    "print(axis0.shape)"
   ]
  },
  {
   "cell_type": "code",
   "execution_count": 419,
   "id": "bca36e99",
   "metadata": {},
   "outputs": [
    {
     "name": "stdout",
     "output_type": "stream",
     "text": [
      "[[[ 1  2]\n",
      "  [ 3  4]\n",
      "  [ 5  6]\n",
      "  [ 2  4]\n",
      "  [ 6  8]\n",
      "  [10 12]]\n",
      "\n",
      " [[ 7  8]\n",
      "  [ 9 10]\n",
      "  [11 12]\n",
      "  [14 16]\n",
      "  [18 20]\n",
      "  [22 24]]]\n",
      "(2, 6, 2)\n"
     ]
    }
   ],
   "source": [
    "axis1 = np.concatenate([three_concat_1, three_concat_2], axis=1)\n",
    "print(axis1)\n",
    "print(axis1.shape)"
   ]
  },
  {
   "cell_type": "code",
   "execution_count": 420,
   "id": "f02a4087",
   "metadata": {},
   "outputs": [
    {
     "name": "stdout",
     "output_type": "stream",
     "text": [
      "[[[ 1  2  2  4]\n",
      "  [ 3  4  6  8]\n",
      "  [ 5  6 10 12]]\n",
      "\n",
      " [[ 7  8 14 16]\n",
      "  [ 9 10 18 20]\n",
      "  [11 12 22 24]]]\n",
      "3\n",
      "(2, 3, 4)\n"
     ]
    }
   ],
   "source": [
    "axis2 = np.concatenate([three_concat_1, three_concat_2], axis=2)\n",
    "print(axis2)\n",
    "print(axis2.ndim)\n",
    "print(axis2.shape)"
   ]
  },
  {
   "cell_type": "code",
   "execution_count": 421,
   "id": "bcc15ded",
   "metadata": {},
   "outputs": [],
   "source": [
    "# np.concatenate([three_concat_1, three_concat_2], axis=3)"
   ]
  }
 ],
 "metadata": {
  "kernelspec": {
   "display_name": "venv",
   "language": "python",
   "name": "venv"
  },
  "language_info": {
   "codemirror_mode": {
    "name": "ipython",
    "version": 3
   },
   "file_extension": ".py",
   "mimetype": "text/x-python",
   "name": "python",
   "nbconvert_exporter": "python",
   "pygments_lexer": "ipython3",
   "version": "3.13.3"
  }
 },
 "nbformat": 4,
 "nbformat_minor": 5
}
